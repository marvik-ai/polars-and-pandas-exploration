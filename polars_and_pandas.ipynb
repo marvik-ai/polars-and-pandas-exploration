{
 "cells": [
  {
   "cell_type": "code",
   "execution_count": 1,
   "id": "c631a6f7",
   "metadata": {},
   "outputs": [],
   "source": [
    "import yaml"
   ]
  },
  {
   "cell_type": "code",
   "execution_count": 2,
   "id": "009bbc1c",
   "metadata": {},
   "outputs": [],
   "source": [
    "from modules.pandas_module import *\n",
    "from modules.polars_module import *\n",
    "from modules.utils import *"
   ]
  },
  {
   "cell_type": "code",
   "execution_count": 3,
   "id": "da1d1d47",
   "metadata": {},
   "outputs": [],
   "source": [
    "with open('settings.yaml', 'r') as stream:\n",
    "    parameters = yaml.safe_load(stream)"
   ]
  },
  {
   "cell_type": "markdown",
   "id": "2589a2a9",
   "metadata": {},
   "source": [
    "# Time metrics ⌚"
   ]
  },
  {
   "cell_type": "code",
   "execution_count": 4,
   "id": "193efb84",
   "metadata": {},
   "outputs": [],
   "source": [
    "lazy_execution_time = 0.0\n",
    "eager_execution_time = 0.0\n",
    "pandas_execution_time = 0.0"
   ]
  },
  {
   "cell_type": "markdown",
   "id": "536b69a3",
   "metadata": {},
   "source": [
    "***"
   ]
  },
  {
   "cell_type": "markdown",
   "id": "a66bb67f",
   "metadata": {},
   "source": [
    "# Load datasets"
   ]
  },
  {
   "cell_type": "markdown",
   "id": "6485b9b8",
   "metadata": {},
   "source": [
    "## Pandas 🐼"
   ]
  },
  {
   "cell_type": "code",
   "execution_count": 5,
   "id": "66869439",
   "metadata": {},
   "outputs": [
    {
     "name": "stdout",
     "output_type": "stream",
     "text": [
      "[Pandas] Elapsed time to read csv: 0.9524600505828857s\n"
     ]
    }
   ],
   "source": [
    "listing_dataset_pd, read_csv_time = pd_read_csv(parameters['listings_path'])\n",
    "pandas_execution_time += read_csv_time"
   ]
  },
  {
   "cell_type": "code",
   "execution_count": 6,
   "id": "83da0e24",
   "metadata": {},
   "outputs": [
    {
     "name": "stdout",
     "output_type": "stream",
     "text": [
      "[Pandas] Elapsed time to read csv: 3.4979422092437744s\n"
     ]
    }
   ],
   "source": [
    "review_dataset_pd, read_csv_time = pd_read_csv(parameters['reviews_path'])\n",
    "pandas_execution_time += read_csv_time"
   ]
  },
  {
   "cell_type": "code",
   "execution_count": 7,
   "id": "511fcc72",
   "metadata": {},
   "outputs": [
    {
     "name": "stdout",
     "output_type": "stream",
     "text": [
      "(41533, 75)\n",
      "(1088372, 6)\n"
     ]
    }
   ],
   "source": [
    "print(listing_dataset_pd.shape)\n",
    "print(review_dataset_pd.shape)"
   ]
  },
  {
   "cell_type": "markdown",
   "id": "43418760",
   "metadata": {},
   "source": [
    "## Polars 🐻‍❄️"
   ]
  },
  {
   "cell_type": "markdown",
   "id": "72781457",
   "metadata": {},
   "source": [
    "### Eager execution 🏃"
   ]
  },
  {
   "cell_type": "code",
   "execution_count": 8,
   "id": "165d839f",
   "metadata": {},
   "outputs": [
    {
     "name": "stdout",
     "output_type": "stream",
     "text": [
      "[Polars] Elapsed time to read csv (eager execution) 0.18752694129943848s\n"
     ]
    }
   ],
   "source": [
    "listing_dataset_pl, read_csv_time = read_csv(parameters['listings_path'])\n",
    "eager_execution_time += read_csv_time"
   ]
  },
  {
   "cell_type": "code",
   "execution_count": 9,
   "id": "e4268989",
   "metadata": {},
   "outputs": [
    {
     "name": "stdout",
     "output_type": "stream",
     "text": [
      "[Polars] Elapsed time to read csv (eager execution) 0.5698461532592773s\n"
     ]
    }
   ],
   "source": [
    "review_dataset_pl, read_csv_time = read_csv(parameters['reviews_path'])\n",
    "eager_execution_time += read_csv_time"
   ]
  },
  {
   "cell_type": "markdown",
   "id": "306ee8e9",
   "metadata": {},
   "source": [
    "### Lazy execution 🦥"
   ]
  },
  {
   "cell_type": "code",
   "execution_count": 10,
   "id": "e13a5c4d",
   "metadata": {},
   "outputs": [
    {
     "name": "stdout",
     "output_type": "stream",
     "text": [
      "[Polars] Elapsed time to scan dataframe: 0.0012247562408447266s\n"
     ]
    }
   ],
   "source": [
    "listing_dataset_pl_lazy, scan_csv_time = scan_csv(parameters['listings_path'])\n",
    "lazy_execution_time += scan_csv_time"
   ]
  },
  {
   "cell_type": "code",
   "execution_count": 11,
   "id": "3c049871",
   "metadata": {},
   "outputs": [
    {
     "name": "stdout",
     "output_type": "stream",
     "text": [
      "[Polars] Elapsed time to scan dataframe: 0.00028896331787109375s\n"
     ]
    }
   ],
   "source": [
    "review_dataset_pl_lazy, scan_csv_time = scan_csv(parameters['reviews_path'])\n",
    "lazy_execution_time += scan_csv_time"
   ]
  },
  {
   "cell_type": "markdown",
   "id": "41a4c1c3",
   "metadata": {},
   "source": [
    "***"
   ]
  },
  {
   "cell_type": "markdown",
   "id": "5e641398",
   "metadata": {},
   "source": [
    "# Filters"
   ]
  },
  {
   "cell_type": "markdown",
   "id": "03927cec",
   "metadata": {},
   "source": [
    "## Pandas 🐼"
   ]
  },
  {
   "cell_type": "code",
   "execution_count": 12,
   "id": "38722a5a",
   "metadata": {},
   "outputs": [
    {
     "name": "stdout",
     "output_type": "stream",
     "text": [
      "[Pandas] Elapsed time to filter csv: 0.010720014572143555s\n"
     ]
    }
   ],
   "source": [
    "listing_dataset_pd, filter_time = pd_filter_dataset(listing_dataset_pd, parameters['desirable_neighboors'])\n",
    "pandas_execution_time += filter_time"
   ]
  },
  {
   "cell_type": "markdown",
   "id": "f022e9b4",
   "metadata": {},
   "source": [
    "## Polars 🐻‍❄️"
   ]
  },
  {
   "cell_type": "markdown",
   "id": "5e5551d7",
   "metadata": {},
   "source": [
    "### Eager execution 🏃"
   ]
  },
  {
   "cell_type": "code",
   "execution_count": 13,
   "id": "2586802d",
   "metadata": {},
   "outputs": [
    {
     "name": "stdout",
     "output_type": "stream",
     "text": [
      "[Polars] Elapsed time to perform filters (eager execution): 0.004805803298950195\n"
     ]
    }
   ],
   "source": [
    "listing_dataset_pl, filter_time = filter_dataset_eager(listing_dataset_pl,desirable_neighboors = parameters['desirable_neighboors'])\n",
    "eager_execution_time += filter_time"
   ]
  },
  {
   "cell_type": "markdown",
   "id": "92840951",
   "metadata": {},
   "source": [
    "### Lazy execution 🦥"
   ]
  },
  {
   "cell_type": "code",
   "execution_count": 14,
   "id": "d0a526cb",
   "metadata": {},
   "outputs": [
    {
     "name": "stdout",
     "output_type": "stream",
     "text": [
      "[Polars] Elapsed time to filter dataset (lazy execution): 6.175041198730469e-05s\n"
     ]
    }
   ],
   "source": [
    "listing_dataset_pl_lazy, filter_time = filter_dataset(lazy_loaded_dataframe = listing_dataset_pl_lazy, desirable_neighboors = parameters['desirable_neighboors'])\n",
    "lazy_execution_time += filter_time"
   ]
  },
  {
   "cell_type": "markdown",
   "id": "744f4e05",
   "metadata": {},
   "source": [
    "***"
   ]
  },
  {
   "cell_type": "markdown",
   "id": "088fbcef",
   "metadata": {},
   "source": [
    "# Sort"
   ]
  },
  {
   "cell_type": "markdown",
   "id": "61e8ded4",
   "metadata": {},
   "source": [
    "## Pandas 🐼"
   ]
  },
  {
   "cell_type": "code",
   "execution_count": 15,
   "id": "7c79ef0f",
   "metadata": {},
   "outputs": [
    {
     "name": "stdout",
     "output_type": "stream",
     "text": [
      "[Pandas] Elapsed time to sort dataframe: 0.0008461475372314453s\n"
     ]
    }
   ],
   "source": [
    "listing_dataset_pd, sort_time = sort_by_column(dataset = listing_dataset_pd, column_name = parameters['sort_column_name'])\n",
    "pandas_execution_time += sort_time"
   ]
  },
  {
   "cell_type": "markdown",
   "id": "da41bcc7",
   "metadata": {},
   "source": [
    "## Polars 🐻‍❄️"
   ]
  },
  {
   "cell_type": "markdown",
   "id": "183f8ad6",
   "metadata": {},
   "source": [
    "### Eager execution 🏃"
   ]
  },
  {
   "cell_type": "code",
   "execution_count": 16,
   "id": "d7f093c2",
   "metadata": {},
   "outputs": [
    {
     "name": "stdout",
     "output_type": "stream",
     "text": [
      "[Polars] Elapsed time to perform sorting (eager execution): 0.0020918846130371094s\n"
     ]
    }
   ],
   "source": [
    "listing_dataset_pl, sort_time = sort_by_column_value_eager(listing_dataset_pl, column_name = parameters['sort_column_name'])\n",
    "eager_execution_time += sort_time"
   ]
  },
  {
   "cell_type": "markdown",
   "id": "426ad910",
   "metadata": {},
   "source": [
    "### Lazy execution 🦥"
   ]
  },
  {
   "cell_type": "code",
   "execution_count": 17,
   "id": "933e9d2a",
   "metadata": {},
   "outputs": [
    {
     "name": "stdout",
     "output_type": "stream",
     "text": [
      "[Polars] Elapsed time to perform sorting (lazy execution): 1.7881393432617188e-05s\n"
     ]
    }
   ],
   "source": [
    "listing_dataset_pl_lazy, sort_time = sort_by_column_value_lazy(listing_dataset_pl_lazy, column_name = parameters['sort_column_name'])\n",
    "lazy_execution_time += sort_time"
   ]
  },
  {
   "cell_type": "markdown",
   "id": "15b0a318",
   "metadata": {},
   "source": [
    "# Remove columns 🆑"
   ]
  },
  {
   "cell_type": "markdown",
   "id": "9f87bc69",
   "metadata": {},
   "source": [
    "## Pandas 🐼"
   ]
  },
  {
   "cell_type": "code",
   "execution_count": 18,
   "id": "7f6cb2b4",
   "metadata": {},
   "outputs": [
    {
     "name": "stdout",
     "output_type": "stream",
     "text": [
      "[Pandas] Elapsed time to remove columns: 0.0028269290924072266s\n"
     ]
    }
   ],
   "source": [
    "remove_time = remove_unwanted_columns(listing_dataset_pd, parameters['columns_to_remove'])\n",
    "pandas_execution_time += remove_time"
   ]
  },
  {
   "cell_type": "markdown",
   "id": "c9ef1122",
   "metadata": {},
   "source": [
    "## Polars 🐻‍❄️"
   ]
  },
  {
   "cell_type": "markdown",
   "id": "a537395f",
   "metadata": {},
   "source": [
    "### Eager execution 🏃"
   ]
  },
  {
   "cell_type": "code",
   "execution_count": 19,
   "id": "b256bb1d",
   "metadata": {},
   "outputs": [
    {
     "name": "stdout",
     "output_type": "stream",
     "text": [
      "[Polars] Elapsed time to drop 6 (eager execution) 3.1948089599609375e-05s\n"
     ]
    }
   ],
   "source": [
    "remove_time = remove_unused_columns_eager(listing_dataset_pl, parameters['columns_to_remove'])\n",
    "eager_execution_time += remove_time"
   ]
  },
  {
   "cell_type": "markdown",
   "id": "8a1af0bf",
   "metadata": {},
   "source": [
    "### Lazy execution 🦥"
   ]
  },
  {
   "cell_type": "code",
   "execution_count": 20,
   "id": "58f63490",
   "metadata": {},
   "outputs": [
    {
     "name": "stdout",
     "output_type": "stream",
     "text": [
      "[Polars] Elapsed time to drop 6 columns (lazy execution): 1.9788742065429688e-05s\n"
     ]
    }
   ],
   "source": [
    "listing_dataset_pl_lazy, remove_time = drop_unwanted_columns_lazy(listing_dataset_pl_lazy, columns = parameters['columns_to_remove'])\n",
    "lazy_execution_time += remove_time"
   ]
  },
  {
   "cell_type": "markdown",
   "id": "151a2b60",
   "metadata": {},
   "source": [
    "***"
   ]
  },
  {
   "cell_type": "markdown",
   "id": "4ea7140b",
   "metadata": {},
   "source": [
    "# Join"
   ]
  },
  {
   "cell_type": "markdown",
   "id": "b1abb48f",
   "metadata": {},
   "source": [
    "## Pandas 🐼"
   ]
  },
  {
   "cell_type": "code",
   "execution_count": 21,
   "id": "7cbf57e4",
   "metadata": {},
   "outputs": [
    {
     "name": "stdout",
     "output_type": "stream",
     "text": [
      "[Pandas] Elapsed time to join datasets: 0.03500485420227051s\n"
     ]
    }
   ],
   "source": [
    "joined_datasets_pd, join_time = join_datasets(first_dataset = listing_dataset_pd, second_dataset = review_dataset_pd, joining_column_name = 'listing_id')\n",
    "pandas_execution_time += join_time"
   ]
  },
  {
   "cell_type": "markdown",
   "id": "1dbe91de",
   "metadata": {},
   "source": [
    "## Polars 🐻‍❄️"
   ]
  },
  {
   "cell_type": "markdown",
   "id": "40396d30",
   "metadata": {},
   "source": [
    "### Eager execution 🏃"
   ]
  },
  {
   "cell_type": "code",
   "execution_count": 22,
   "id": "a4111901",
   "metadata": {},
   "outputs": [
    {
     "name": "stdout",
     "output_type": "stream",
     "text": [
      "[Polars] Elapsed time to add column (eager execution): 0.0014319419860839844s\n"
     ]
    }
   ],
   "source": [
    "listing_dataset_pl, add_column_time  = add_column_eager(listing_dataset_pl)\n",
    "eager_execution_time += add_column_time"
   ]
  },
  {
   "cell_type": "code",
   "execution_count": 23,
   "id": "733b5e91",
   "metadata": {},
   "outputs": [
    {
     "name": "stdout",
     "output_type": "stream",
     "text": [
      "[Polars] Elapsed time to perform join (eager execution): 0.03319072723388672s\n"
     ]
    }
   ],
   "source": [
    "joined_polars, join_time = join_datasets_eager(listing_dataset_pl, review_dataset_pl, parameters['matching_column'])\n",
    "eager_execution_time += join_time"
   ]
  },
  {
   "cell_type": "markdown",
   "id": "0d3d349d",
   "metadata": {},
   "source": [
    "###  Lazy Execution 🦥"
   ]
  },
  {
   "cell_type": "markdown",
   "id": "952bfd91",
   "metadata": {},
   "source": [
    "#### Disclaimer: to perform this section, the lazy track has to be **collected**. It means that all above methods have been stacked so far to be first optimized before its execution.\n",
    "\n",
    "Moreover, the eager track does not need to be collected, because it has been executed all methods so far."
   ]
  },
  {
   "cell_type": "code",
   "execution_count": 24,
   "id": "75abca79",
   "metadata": {},
   "outputs": [
    {
     "data": {
      "image/svg+xml": [
       "<svg xmlns=\"http://www.w3.org/2000/svg\" xmlns:xlink=\"http://www.w3.org/1999/xlink\" width=\"244pt\" height=\"205pt\" viewBox=\"0.00 0.00 244.00 205.00\">\n",
       "<g id=\"graph0\" class=\"graph\" transform=\"scale(1 1) rotate(0) translate(4 201)\">\n",
       "<title>polars_query</title>\n",
       "<polygon fill=\"white\" stroke=\"none\" points=\"-4,4 -4,-201 240,-201 240,4 -4,4\"/>\n",
       "<!-- DROP [(0, 0)] -->\n",
       "<g id=\"node1\" class=\"node\">\n",
       "<title>DROP [(0, 0)]</title>\n",
       "<polygon fill=\"none\" stroke=\"black\" points=\"145,-197 91,-197 91,-161 145,-161 145,-197\"/>\n",
       "<text text-anchor=\"middle\" x=\"118\" y=\"-175.3\" font-family=\"Times,serif\" font-size=\"14.00\">DROP</text>\n",
       "</g>\n",
       "<!-- SORT BY [col(&quot;review_scores_value&quot;)] [(0, 1)] -->\n",
       "<g id=\"node2\" class=\"node\">\n",
       "<title>SORT BY [col(&quot;review_scores_value&quot;)] [(0, 1)]</title>\n",
       "<polygon fill=\"none\" stroke=\"black\" points=\"236,-125 0,-125 0,-89 236,-89 236,-125\"/>\n",
       "<text text-anchor=\"middle\" x=\"118\" y=\"-103.3\" font-family=\"Times,serif\" font-size=\"14.00\">SORT BY [col(&quot;review_scores_value&quot;)]</text>\n",
       "</g>\n",
       "<!-- DROP [(0, 0)]&#45;&#45;SORT BY [col(&quot;review_scores_value&quot;)] [(0, 1)] -->\n",
       "<g id=\"edge1\" class=\"edge\">\n",
       "<title>DROP [(0, 0)]--SORT BY [col(&quot;review_scores_value&quot;)] [(0, 1)]</title>\n",
       "<path fill=\"none\" stroke=\"black\" d=\"M118,-160.7C118,-149.85 118,-135.92 118,-125.1\"/>\n",
       "</g>\n",
       "<!-- CSV SCAN sources/listings.csv;\n",
       "π */75;\n",
       "σ (((col(&quot;room_type&quot;)) == (... [(0, 2)] -->\n",
       "<g id=\"node3\" class=\"node\">\n",
       "<title>CSV SCAN sources/listings.csv;\n",
       "π */75;\n",
       "σ (((col(&quot;room_type&quot;)) == (... [(0, 2)]</title>\n",
       "<polygon fill=\"none\" stroke=\"black\" points=\"215.5,-53 20.5,-53 20.5,0 215.5,0 215.5,-53\"/>\n",
       "<text text-anchor=\"middle\" x=\"118\" y=\"-37.8\" font-family=\"Times,serif\" font-size=\"14.00\">CSV SCAN sources/listings.csv;</text>\n",
       "<text text-anchor=\"middle\" x=\"118\" y=\"-22.8\" font-family=\"Times,serif\" font-size=\"14.00\">π */75;</text>\n",
       "<text text-anchor=\"middle\" x=\"118\" y=\"-7.8\" font-family=\"Times,serif\" font-size=\"14.00\">σ (((col(&quot;room_type&quot;)) == (...</text>\n",
       "</g>\n",
       "<!-- SORT BY [col(&quot;review_scores_value&quot;)] [(0, 1)]&#45;&#45;CSV SCAN sources/listings.csv;\n",
       "π */75;\n",
       "σ (((col(&quot;room_type&quot;)) == (... [(0, 2)] -->\n",
       "<g id=\"edge2\" class=\"edge\">\n",
       "<title>SORT BY [col(&quot;review_scores_value&quot;)] [(0, 1)]--CSV SCAN sources/listings.csv;\n",
       "π */75;\n",
       "σ (((col(&quot;room_type&quot;)) == (... [(0, 2)]</title>\n",
       "<path fill=\"none\" stroke=\"black\" d=\"M118,-88.58C118,-78.19 118,-64.81 118,-53.22\"/>\n",
       "</g>\n",
       "</g>\n",
       "</svg>"
      ],
      "text/plain": [
       "<IPython.core.display.SVG object>"
      ]
     },
     "metadata": {},
     "output_type": "display_data"
    }
   ],
   "source": [
    "listing_dataset_pl_lazy.show_graph()"
   ]
  },
  {
   "cell_type": "code",
   "execution_count": 25,
   "id": "3b26206a",
   "metadata": {},
   "outputs": [
    {
     "name": "stdout",
     "output_type": "stream",
     "text": [
      "[Polars] Elapsed time to collect lazy frame: 0.232130765914917s\n"
     ]
    }
   ],
   "source": [
    "listing_dataset_pl_lazy_collected, collect_time = collect_transformation(listing_dataset_pl_lazy)\n",
    "lazy_execution_time += collect_time"
   ]
  },
  {
   "cell_type": "code",
   "execution_count": 26,
   "id": "462e8711",
   "metadata": {},
   "outputs": [
    {
     "data": {
      "image/svg+xml": [
       "<svg xmlns=\"http://www.w3.org/2000/svg\" xmlns:xlink=\"http://www.w3.org/1999/xlink\" width=\"211pt\" height=\"61pt\" viewBox=\"0.00 0.00 211.00 61.00\">\n",
       "<g id=\"graph0\" class=\"graph\" transform=\"scale(1 1) rotate(0) translate(4 57)\">\n",
       "<title>polars_query</title>\n",
       "<polygon fill=\"white\" stroke=\"none\" points=\"-4,4 -4,-57 207,-57 207,4 -4,4\"/>\n",
       "<!-- [CSV SCAN sources/reviews.csv;\n",
       "π */6;\n",
       "σ &#45;] -->\n",
       "<g id=\"node1\" class=\"node\">\n",
       "<title>[CSV SCAN sources/reviews.csv;\n",
       "π */6;\n",
       "σ -]</title>\n",
       "<polygon fill=\"none\" stroke=\"black\" points=\"203,-53 0,-53 0,0 203,0 203,-53\"/>\n",
       "<text text-anchor=\"middle\" x=\"101.5\" y=\"-37.8\" font-family=\"Times,serif\" font-size=\"14.00\">[CSV SCAN sources/reviews.csv;</text>\n",
       "<text text-anchor=\"middle\" x=\"101.5\" y=\"-22.8\" font-family=\"Times,serif\" font-size=\"14.00\">π */6;</text>\n",
       "<text text-anchor=\"middle\" x=\"101.5\" y=\"-7.8\" font-family=\"Times,serif\" font-size=\"14.00\">σ -]</text>\n",
       "</g>\n",
       "</g>\n",
       "</svg>"
      ],
      "text/plain": [
       "<IPython.core.display.SVG object>"
      ]
     },
     "metadata": {},
     "output_type": "display_data"
    }
   ],
   "source": [
    "review_dataset_pl_lazy.show_graph()"
   ]
  },
  {
   "cell_type": "code",
   "execution_count": 27,
   "id": "eedf31e0",
   "metadata": {},
   "outputs": [
    {
     "name": "stdout",
     "output_type": "stream",
     "text": [
      "[Polars] Elapsed time to collect lazy frame: 0.6155369281768799s\n"
     ]
    }
   ],
   "source": [
    "review_dataset_pl_lazy_collected, collect_time = collect_transformation(review_dataset_pl_lazy)\n",
    "lazy_execution_time += collect_time"
   ]
  },
  {
   "cell_type": "code",
   "execution_count": 28,
   "id": "b11ca63d",
   "metadata": {},
   "outputs": [
    {
     "name": "stdout",
     "output_type": "stream",
     "text": [
      "[Polars] Elapsed time to add column (eager execution): 0.004706144332885742s\n"
     ]
    }
   ],
   "source": [
    "listing_dataset_pl_lazy_collected, add_column_time = add_column_eager(listing_dataset_pl_lazy_collected)\n",
    "lazy_execution_time += add_column_time"
   ]
  },
  {
   "cell_type": "code",
   "execution_count": 29,
   "id": "540ceaef",
   "metadata": {},
   "outputs": [
    {
     "name": "stdout",
     "output_type": "stream",
     "text": [
      "[Polars] Elapsed time to perform join (eager execution): 0.03485608100891113s\n"
     ]
    }
   ],
   "source": [
    "joined_dataset_pl_lazy_colledted, join_time = join_datasets_eager(listing_dataset_pl_lazy_collected, review_dataset_pl_lazy_collected,\"listing_id\")\n",
    "lazy_execution_time += join_time"
   ]
  },
  {
   "cell_type": "markdown",
   "id": "0e710cad",
   "metadata": {},
   "source": [
    "***"
   ]
  },
  {
   "cell_type": "markdown",
   "id": "76210e05",
   "metadata": {},
   "source": [
    "# Wrapping 📦"
   ]
  },
  {
   "cell_type": "code",
   "execution_count": 30,
   "id": "73f77ed3",
   "metadata": {},
   "outputs": [
    {
     "name": "stdout",
     "output_type": "stream",
     "text": [
      "[Polars] Elapsed time to perform migration (eager execution): 0.05677390098571777s\n"
     ]
    }
   ],
   "source": [
    "migrated_to_pandas, migration_time = migrate_to_pandas(joined_polars)\n",
    "eager_execution_time += migration_time"
   ]
  },
  {
   "cell_type": "code",
   "execution_count": 31,
   "id": "644e78c4",
   "metadata": {},
   "outputs": [
    {
     "name": "stdout",
     "output_type": "stream",
     "text": [
      "[Polars] Elapsed time to perform migration (eager execution): 0.035977840423583984s\n"
     ]
    }
   ],
   "source": [
    "migrated_to_pandas, migration_time = migrate_to_pandas(joined_dataset_pl_lazy_colledted)\n",
    "lazy_execution_time += migration_time"
   ]
  },
  {
   "cell_type": "markdown",
   "id": "3e697f11",
   "metadata": {},
   "source": [
    "***"
   ]
  },
  {
   "cell_type": "markdown",
   "id": "86067ea7",
   "metadata": {},
   "source": [
    "# Comparatives \n",
    "\n",
    "\n"
   ]
  },
  {
   "cell_type": "code",
   "execution_count": 32,
   "id": "badaecea",
   "metadata": {},
   "outputs": [
    {
     "name": "stdout",
     "output_type": "stream",
     "text": [
      "Overall execution time for Polars - lazy: 0.9248208999633789s\n",
      "Overall execution time for Polars - eager: 0.8556993007659912s\n",
      "Overall execution time for Pandas: 4.499800205230713s\n"
     ]
    }
   ],
   "source": [
    "times = [('Polars - lazy', lazy_execution_time), ('Polars - eager', eager_execution_time), ('Pandas', pandas_execution_time)]\n",
    "for time in times:\n",
    "    print(f'Overall execution time for {time[0]}: {time[1]}s')"
   ]
  },
  {
   "cell_type": "code",
   "execution_count": null,
   "id": "23ebffd1",
   "metadata": {},
   "outputs": [],
   "source": []
  }
 ],
 "metadata": {
  "kernelspec": {
   "display_name": "Python 3 (ipykernel)",
   "language": "python",
   "name": "python3"
  },
  "language_info": {
   "codemirror_mode": {
    "name": "ipython",
    "version": 3
   },
   "file_extension": ".py",
   "mimetype": "text/x-python",
   "name": "python",
   "nbconvert_exporter": "python",
   "pygments_lexer": "ipython3",
   "version": "3.9.13"
  }
 },
 "nbformat": 4,
 "nbformat_minor": 5
}
